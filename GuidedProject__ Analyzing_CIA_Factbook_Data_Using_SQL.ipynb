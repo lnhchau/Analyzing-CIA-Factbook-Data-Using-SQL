{
 "cells": [
  {
   "cell_type": "code",
   "execution_count": 43,
   "id": "35e9b287",
   "metadata": {},
   "outputs": [
    {
     "name": "stdout",
     "output_type": "stream",
     "text": [
      "Collecting package metadata (current_repodata.json): ...working... done\n",
      "Solving environment: ...working... done\n",
      "\n",
      "# All requested packages already installed.\n",
      "\n"
     ]
    }
   ],
   "source": [
    "!conda install -yc conda-forge ipython-sql"
   ]
  },
  {
   "cell_type": "markdown",
   "id": "ecc9c98f",
   "metadata": {},
   "source": [
    "# INTRODUCTION"
   ]
  },
  {
   "cell_type": "code",
   "execution_count": null,
   "id": "1a4e7189",
   "metadata": {},
   "outputs": [],
   "source": [
    "%%capture\n",
    "%load_ext sql\n",
    "%sql sqlite:///factbook.db"
   ]
  },
  {
   "cell_type": "markdown",
   "id": "a2b4853d",
   "metadata": {},
   "source": [
    "## Overview of the Data\n",
    "We'll begin by getting a sense of what the data looks like."
   ]
  },
  {
   "cell_type": "code",
   "execution_count": null,
   "id": "12fc83f5",
   "metadata": {},
   "outputs": [],
   "source": [
    "%%sql\n",
    "SELECT *\n",
    "  FROM facts\n",
    " LIMIT 5;"
   ]
  },
  {
   "cell_type": "markdown",
   "id": "08eff280",
   "metadata": {},
   "source": [
    "Here are the descriptions for some of the columns:\n",
    "- `name` — the name of the country.\n",
    "- `area`— the country's total area (both land and water).\n",
    "- `area_land` — the country's land area in [square kilometers](https://www.math.net/square-kilometers)\n",
    "- `area_water` — the country's waterarea in square kilometers.\n",
    "- `population` — the country's population.\n",
    "- `population_growth` — the country's population growth as a percentage.\n",
    "- `birth_rate` — the country's birth rate, or the number of births per year per 1,000 people.\n",
    "- `death_rate` — the country's death rate, or the number of death per year per 1,000 people.\n",
    "\n",
    "Let's start by calculating some summary statistics and look for any outlier countries."
   ]
  },
  {
   "cell_type": "markdown",
   "id": "378ac9d0",
   "metadata": {},
   "source": [
    "## SUMMARY STATISTICS"
   ]
  },
  {
   "cell_type": "code",
   "execution_count": null,
   "id": "6209d3a3",
   "metadata": {
    "scrolled": true
   },
   "outputs": [],
   "source": [
    "%%sql\n",
    "SELECT MIN(population) AS min_pop, MAX(population) AS max_pop, MIN(population_growth) AS min_pop_growth, MAX(population_growth) AS max_pop_growth\n",
    "  FROM facts"
   ]
  },
  {
   "cell_type": "markdown",
   "id": "5c662cd6",
   "metadata": {},
   "source": [
    "We see a few interesting things in the summary statistics on the previous screen:\n",
    "\n",
    "- There's a country with a population of `0`\n",
    "- There's a country with a population of `7256490011` (or more than 7.2 billion people)\n",
    "\n",
    "Let's use subqueries to zoom in on just these countries *without* using the specific values."
   ]
  },
  {
   "cell_type": "markdown",
   "id": "9f5c20d5",
   "metadata": {},
   "source": [
    "#### 1. The country with the minimum population"
   ]
  },
  {
   "cell_type": "code",
   "execution_count": null,
   "id": "864b3e27",
   "metadata": {},
   "outputs": [],
   "source": [
    "%%sql\n",
    "SELECT * \n",
    "  FROM facts\n",
    " ORDER BY population ASC\n",
    " LIMIT 1;"
   ]
  },
  {
   "cell_type": "markdown",
   "id": "fb2d1a8d",
   "metadata": {},
   "source": [
    "#### 2. The country with the maximum population"
   ]
  },
  {
   "cell_type": "code",
   "execution_count": null,
   "id": "eafb3ddc",
   "metadata": {},
   "outputs": [],
   "source": [
    "%%sql\n",
    "SELECT * \n",
    "  FROM facts\n",
    " ORDER BY population DESC\n",
    " LIMIT 1;"
   ]
  },
  {
   "cell_type": "markdown",
   "id": "b116b070",
   "metadata": {},
   "source": [
    "It seems like the table contains a row for the whole world, which explains the population of over 7.2 billion. It also seems like the table contains a row for Antarctica, which explains the population of 0.\n",
    "\n",
    "Now that we know this, we should recalculate the summary statistics we calculated earlier — this time excluding the row for the whole world."
   ]
  },
  {
   "cell_type": "code",
   "execution_count": null,
   "id": "6086899a",
   "metadata": {},
   "outputs": [],
   "source": [
    "%%sql\n",
    "SELECT MIN(population) AS min_pop, MAX(population) AS max_pop, MIN(population_growth) AS min_pop_growth, MAX(population_growth) AS max_pop_growth\n",
    "  FROM facts\n",
    " WHERE name != 'World'"
   ]
  },
  {
   "cell_type": "markdown",
   "id": "4e30379d",
   "metadata": {},
   "source": [
    "The average value for population and area column"
   ]
  },
  {
   "cell_type": "code",
   "execution_count": null,
   "id": "abf0b2ec",
   "metadata": {},
   "outputs": [],
   "source": [
    "%%sql\n",
    "SELECT AVG(population), AVG(area)\n",
    "  FROM facts\n",
    " WHERE name <> 'World'"
   ]
  },
  {
   "cell_type": "markdown",
   "id": "772a053e",
   "metadata": {},
   "source": [
    "To finish, we'll find countries that are densely populated. We'll identify countries that have the following:\n",
    "\n",
    "- Above-average values for population.\n",
    "- Below-average values for area."
   ]
  },
  {
   "cell_type": "code",
   "execution_count": null,
   "id": "4283f249",
   "metadata": {},
   "outputs": [],
   "source": [
    "%%sql\n",
    "SELECT * \n",
    "  FROM facts\n",
    " WHERE population > (SELECT AVG(population) \n",
    "                     FROM facts\n",
    "                    WHERE name <> 'World'\n",
    "                    ) \n",
    "     AND area < (SELECT AVG(area) \n",
    "                 FROM facts\n",
    "                WHERE name <> 'World'\n",
    "                ) "
   ]
  },
  {
   "cell_type": "markdown",
   "id": "167eccd0",
   "metadata": {},
   "source": [
    "Some of these countries are generally known to be densely populated, so we have confidence in our results!"
   ]
  }
 ],
 "metadata": {
  "kernelspec": {
   "display_name": "Python 3 (ipykernel)",
   "language": "python",
   "name": "python3"
  },
  "language_info": {
   "codemirror_mode": {
    "name": "ipython",
    "version": 3
   },
   "file_extension": ".py",
   "mimetype": "text/x-python",
   "name": "python",
   "nbconvert_exporter": "python",
   "pygments_lexer": "ipython3",
   "version": "3.9.7"
  }
 },
 "nbformat": 4,
 "nbformat_minor": 5
}
